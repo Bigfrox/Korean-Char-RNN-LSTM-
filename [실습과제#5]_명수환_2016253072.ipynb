{
  "nbformat": 4,
  "nbformat_minor": 0,
  "metadata": {
    "colab": {
      "name": "[실습과제#5]명수환.ipynb",
      "provenance": [],
      "collapsed_sections": []
    },
    "kernelspec": {
      "name": "python3",
      "display_name": "Python 3"
    },
    "accelerator": "GPU"
  },
  "cells": [
    {
      "cell_type": "markdown",
      "metadata": {
        "id": "hP24ag0kq4nr"
      },
      "source": [
        "# **Recurrent Neural Network (RNN)**"
      ]
    },
    {
      "cell_type": "markdown",
      "metadata": {
        "id": "Sy_pLsXTZUAJ"
      },
      "source": [
        "핸즈 온 머신러닝 \n",
        "*   15장 RNN과 CNN을 사용해 시퀀스 처리하기 \n",
        "*   16장 RNN과 어텐션을 사용한 자연어 처리 "
      ]
    },
    {
      "cell_type": "markdown",
      "metadata": {
        "id": "SwD_rNPqrRr4"
      },
      "source": [
        "참고자료 \n",
        "\n",
        "https://gongu.copyright.or.kr/ \n",
        "\n",
        "https://nbviewer.jupyter.org/github/rickiepark/handson-ml2/blob/master/15_processing_sequences_using_rnns_and_cnns.ipynb \n",
        "\n",
        "https://nbviewer.jupyter.org/github/rickiepark/handson-ml2/blob/master/16_nlp_with_rnns_and_attention.ipynb \n",
        "\n",
        "https://github.com/NLP-kr/tensorflow-ml-nlp-tf2/tree/master/6.CHATBOT \n",
        "\n",
        "https://www.tensorflow.org/text/tutorials/transformer "
      ]
    },
    {
      "cell_type": "code",
      "metadata": {
        "id": "P81Oehgv4JgV",
        "colab": {
          "base_uri": "https://localhost:8080/"
        },
        "outputId": "b52d86fd-d511-4278-eddf-ca1b759026d7"
      },
      "source": [
        "#!pip uninstall -q tensorflow tensorflow-estimator tensorboard tensorflow-probability \n",
        "#!pip install -q tensorflow==2.1.0 "
      ],
      "execution_count": 1,
      "outputs": [
        {
          "output_type": "stream",
          "name": "stdout",
          "text": [
            "Proceed (y/n)? y\n",
            "Proceed (y/n)? y\n",
            "Proceed (y/n)? y\n",
            "Proceed (y/n)? y\n",
            "\u001b[K     |████████████████████████████████| 421.8 MB 28 kB/s \n",
            "\u001b[K     |████████████████████████████████| 50 kB 6.0 MB/s \n",
            "\u001b[K     |████████████████████████████████| 3.8 MB 39.1 MB/s \n",
            "\u001b[K     |████████████████████████████████| 448 kB 37.3 MB/s \n",
            "\u001b[?25h  Building wheel for gast (setup.py) ... \u001b[?25l\u001b[?25hdone\n"
          ]
        }
      ]
    },
    {
      "cell_type": "code",
      "metadata": {
        "id": "WhvKMhGQ1qI3"
      },
      "source": [
        "import tensorflow as tf \n",
        "import tensorflow.keras as keras \n",
        "import numpy as np"
      ],
      "execution_count": 27,
      "outputs": []
    },
    {
      "cell_type": "code",
      "metadata": {
        "id": "WgdS-rDEHtvj",
        "colab": {
          "base_uri": "https://localhost:8080/"
        },
        "outputId": "c3142b6f-3dec-4aab-ffe8-ff57f90a6cae"
      },
      "source": [
        "print(tf.__version__)\n",
        "print(tf.test.gpu_device_name())"
      ],
      "execution_count": 28,
      "outputs": [
        {
          "output_type": "stream",
          "name": "stdout",
          "text": [
            "2.1.0\n",
            "/device:GPU:0\n"
          ]
        }
      ]
    },
    {
      "cell_type": "markdown",
      "metadata": {
        "id": "J7YfbaCofnyQ"
      },
      "source": [
        "## Data Preprocessing "
      ]
    },
    {
      "cell_type": "code",
      "metadata": {
        "id": "_xN7tGPL9OGF"
      },
      "source": [
        "with open('new_merged_2021_12_16_21_26_.txt','r',encoding='utf-8') as f:\n",
        "  merged_text = f.read()\n"
      ],
      "execution_count": 29,
      "outputs": []
    },
    {
      "cell_type": "code",
      "metadata": {
        "id": "YjiCeTR09ZQu",
        "colab": {
          "base_uri": "https://localhost:8080/"
        },
        "outputId": "29e9dee9-f99d-4f2c-c0c9-c71485c24976"
      },
      "source": [
        "len(merged_text)"
      ],
      "execution_count": 30,
      "outputs": [
        {
          "output_type": "execute_result",
          "data": {
            "text/plain": [
              "452327"
            ]
          },
          "metadata": {},
          "execution_count": 30
        }
      ]
    },
    {
      "cell_type": "code",
      "metadata": {
        "id": "wJNu-fmn9cVp",
        "colab": {
          "base_uri": "https://localhost:8080/",
          "height": 35
        },
        "outputId": "761c80ca-1b25-44d3-d401-89e741e54cda"
      },
      "source": [
        "merged_text[-20:]"
      ],
      "execution_count": 31,
      "outputs": [
        {
          "output_type": "execute_result",
          "data": {
            "application/vnd.google.colaboratory.intrinsic+json": {
              "type": "string"
            },
            "text/plain": [
              "'락원]의 별 下卷[하권] 끝 〉── '"
            ]
          },
          "metadata": {},
          "execution_count": 31
        }
      ]
    },
    {
      "cell_type": "markdown",
      "metadata": {
        "id": "g_hJZhtkADil"
      },
      "source": [
        "모든 글자를 정수로 Encoding \n",
        "\n",
        "Keras의 Tokenizer \n",
        "\n",
        "1부터 시작해서 고유한 글자 개수(1401)까지 만듦 "
      ]
    },
    {
      "cell_type": "code",
      "metadata": {
        "id": "GmsgIjtW2UZR"
      },
      "source": [
        "tokenizer = tf.keras.preprocessing.text.Tokenizer(lower=False, char_level=True) #char_level이란건 글자 단위로 하겠다는 의미.\n",
        "tokenizer.fit_on_texts(merged_text)\n",
        "#분리를 하고 각각의 결과에 대하여 인덱스를 붙이는게 토크나이저의 역할\n",
        "#한국어 NLP에서 중요한거 : lower=False 이부분. lower옵션이 있을 때 한국어를 처리한다면 False를 해줘야 한다. 이게 영어에서는 대문자를 소문자로 바꿔주는 역할을 하는데,\n",
        "#한국어의 경우에는 글자를 초성,중성,종성으로 나눠주는 역할을 한다!\n"
      ],
      "execution_count": 32,
      "outputs": []
    },
    {
      "cell_type": "code",
      "metadata": {
        "id": "FuUZGvts-8Sm",
        "colab": {
          "base_uri": "https://localhost:8080/"
        },
        "outputId": "e8b68154-7bce-45ca-d1a0-3314274eb5eb"
      },
      "source": [
        "len(tokenizer.word_index)\n",
        "#총 사전의 size임.\n",
        "#즉, 임베딩 테이블의 사이즈. (= 단어 개수)"
      ],
      "execution_count": 33,
      "outputs": [
        {
          "output_type": "execute_result",
          "data": {
            "text/plain": [
              "2026"
            ]
          },
          "metadata": {},
          "execution_count": 33
        }
      ]
    },
    {
      "cell_type": "code",
      "metadata": {
        "id": "KyyJyjkS-DUw",
        "colab": {
          "base_uri": "https://localhost:8080/"
        },
        "outputId": "342c760c-1f9e-451b-9c84-a04f759d2217"
      },
      "source": [
        "tokenizer.texts_to_sequences(['오늘도 또 우리 수탉이 막 쫓기었다.'])"
      ],
      "execution_count": 34,
      "outputs": [
        {
          "output_type": "execute_result",
          "data": {
            "text/plain": [
              "[[42, 161, 25, 1, 173, 1, 127, 26, 1, 62, 2, 1, 352, 1, 816, 29, 31, 4, 3]]"
            ]
          },
          "metadata": {},
          "execution_count": 34
        }
      ]
    },
    {
      "cell_type": "code",
      "metadata": {
        "id": "1f9Lc_Cj_jEI",
        "colab": {
          "base_uri": "https://localhost:8080/"
        },
        "outputId": "7af67f4a-7359-4c92-cf87-6a9608fdf2e1"
      },
      "source": [
        "tokenizer.sequences_to_texts([[73, 187, 20, 1, 134, 1, 72, 14, 1, 63, 626, 2, 1, 262, 1, 543, 27, 42, 4, 5]])"
      ],
      "execution_count": 35,
      "outputs": [
        {
          "output_type": "execute_result",
          "data": {
            "text/plain": [
              "['! 져 서   심   님 은   면 딜 이   듯   얻 있 오 다 \\n']"
            ]
          },
          "metadata": {},
          "execution_count": 35
        }
      ]
    },
    {
      "cell_type": "markdown",
      "metadata": {
        "id": "wD3tnaVGAWW-"
      },
      "source": [
        "max_id : 고유 글자 개수 (1,401개) \n",
        "\n",
        "dataset_size: 전체 글자 개수 (176,598개)"
      ]
    },
    {
      "cell_type": "code",
      "metadata": {
        "id": "AGlz2k2e_tco"
      },
      "source": [
        "max_id = len(tokenizer.word_index) # number of distinct characters\n",
        "dataset_size = tokenizer.document_count # total number of characters"
      ],
      "execution_count": 36,
      "outputs": []
    },
    {
      "cell_type": "code",
      "metadata": {
        "id": "aY0-TaWHAZ61",
        "colab": {
          "base_uri": "https://localhost:8080/"
        },
        "outputId": "14ff7c5f-fe9f-4b4b-c3c8-dacdac9bbbde"
      },
      "source": [
        "print(max_id)\n",
        "print(dataset_size)"
      ],
      "execution_count": 37,
      "outputs": [
        {
          "output_type": "stream",
          "name": "stdout",
          "text": [
            "2026\n",
            "452327\n"
          ]
        }
      ]
    },
    {
      "cell_type": "markdown",
      "metadata": {
        "id": "dMEpA_WZABq0"
      },
      "source": [
        "전체 텍스트를 Encoding해서 각 글자를 ID로 나타내기 \n",
        "\n",
        "(0부터 시작하기 위해서 1 빼기) "
      ]
    },
    {
      "cell_type": "code",
      "metadata": {
        "id": "i8zsaoaZ_iEX"
      },
      "source": [
        "[encoded] = np.array(tokenizer.texts_to_sequences([merged_text])) - 1"
      ],
      "execution_count": 38,
      "outputs": []
    },
    {
      "cell_type": "markdown",
      "metadata": {
        "id": "n3zgvs0CA2dA"
      },
      "source": [
        "텍스트의 처음 90%를 훈련 세트로 사용 \n",
        "\n",
        "이 텍스트 세트에서 한 번에 한 글자씩 반환하는 tf.data.Dataset 객체 만들기 "
      ]
    },
    {
      "cell_type": "code",
      "metadata": {
        "id": "iBq2RKuTAvIi"
      },
      "source": [
        "train_size = dataset_size * 90 // 100\n",
        "dataset = tf.data.Dataset.from_tensor_slices(encoded[:train_size])"
      ],
      "execution_count": 39,
      "outputs": []
    },
    {
      "cell_type": "markdown",
      "metadata": {
        "id": "jpeeZIyT7LsY"
      },
      "source": [
        "[18강] RNN.(2) - LSTM.GRU.pdf p.25 "
      ]
    },
    {
      "cell_type": "markdown",
      "metadata": {
        "id": "Xp9NC84PBET3"
      },
      "source": [
        "window() method를 사용해서 여러 텍스트 window로 변환 \n",
        "\n",
        "100(모델이 보는 데이터) + 1(모델이 맞추어야 하는 데이터) \n",
        "\n",
        "RNN은 이 부분 문자열 길이만큼만 Back-propagation \n",
        "\n",
        "Truncated BackPropagation Through Time(TBPTT) "
      ]
    },
    {
      "cell_type": "code",
      "metadata": {
        "id": "W90fnpNJBBQr"
      },
      "source": [
        "n_steps = 100\n",
        "window_length = n_steps + 1 # target <= input shifted 1 character ahead\n",
        "dataset = dataset.repeat().window(window_length, shift=1, drop_remainder=True)"
      ],
      "execution_count": 40,
      "outputs": []
    },
    {
      "cell_type": "markdown",
      "metadata": {
        "id": "GaeTVKQOBmTc"
      },
      "source": [
        "모델의 실제 입력으로 사용되는 tensor 형태로 변환 \n",
        "\n",
        "window마다 batch(window_length)를 호출 "
      ]
    },
    {
      "cell_type": "code",
      "metadata": {
        "id": "cjzbt8CpBdOc"
      },
      "source": [
        "dataset = dataset.flat_map(lambda window: window.batch(window_length))"
      ],
      "execution_count": 41,
      "outputs": []
    },
    {
      "cell_type": "code",
      "metadata": {
        "id": "i2nNRCKyByoW"
      },
      "source": [
        "np.random.seed(42)\n",
        "tf.random.set_seed(42)"
      ],
      "execution_count": 42,
      "outputs": []
    },
    {
      "cell_type": "code",
      "metadata": {
        "id": "x6vMr_AwB0TH"
      },
      "source": [
        "batch_size = 32\n",
        "dataset = dataset.shuffle(10000).batch(batch_size)\n",
        "dataset = dataset.map(lambda windows: (windows[:, :-1], windows[:, 1:]))"
      ],
      "execution_count": 43,
      "outputs": []
    },
    {
      "cell_type": "markdown",
      "metadata": {
        "id": "9xv27PmF952W"
      },
      "source": [
        "One-hot encoding "
      ]
    },
    {
      "cell_type": "code",
      "metadata": {
        "id": "TgJPDrrdB2Hi"
      },
      "source": [
        "dataset = dataset.map(\n",
        "    lambda X_batch, Y_batch: (tf.one_hot(X_batch, depth=max_id), Y_batch))"
      ],
      "execution_count": 44,
      "outputs": []
    },
    {
      "cell_type": "markdown",
      "metadata": {
        "id": "PQIzQh0k-w3Y"
      },
      "source": [
        "![image.png](data:image/png;base64,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)"
      ]
    },
    {
      "cell_type": "markdown",
      "metadata": {
        "id": "uHh4aMVo-uD6"
      },
      "source": [
        "https://cs230.stanford.edu/blog/datapipeline/#best-practices "
      ]
    },
    {
      "cell_type": "code",
      "metadata": {
        "id": "WLgAqh3cB6y1"
      },
      "source": [
        "dataset = dataset.prefetch(1)"
      ],
      "execution_count": 45,
      "outputs": []
    },
    {
      "cell_type": "markdown",
      "metadata": {
        "id": "nsJ7mPlt_CYP"
      },
      "source": [
        "(batch_size, n_steps, max_id) (batch_size, n_steps) "
      ]
    },
    {
      "cell_type": "code",
      "metadata": {
        "id": "5h2Zr_lUB9IC",
        "colab": {
          "base_uri": "https://localhost:8080/"
        },
        "outputId": "5387828e-541a-43bb-bbc3-72d2ca5a8f2d"
      },
      "source": [
        "for X_batch, Y_batch in dataset.take(1):\n",
        "    print(X_batch.shape, Y_batch.shape)"
      ],
      "execution_count": 46,
      "outputs": [
        {
          "output_type": "stream",
          "name": "stdout",
          "text": [
            "(32, 100, 2026) (32, 100)\n"
          ]
        }
      ]
    },
    {
      "cell_type": "markdown",
      "metadata": {
        "id": "6A5n1iKNCEYh"
      },
      "source": [
        "## Korean CharNet Model  "
      ]
    },
    {
      "cell_type": "code",
      "metadata": {
        "id": "gJZlWtNVB_u4"
      },
      "source": [
        "model = tf.keras.models.Sequential([\n",
        "    tf.keras.layers.LSTM(128, return_sequences=True, input_shape=[None, max_id],\n",
        "                     dropout=0.2), #recurrent_dropout=0.2),\n",
        "                     \n",
        "    tf.keras.layers.LSTM(128, return_sequences=True,\n",
        "                     dropout=0.2), #recurrent_dropout=0.2),\n",
        "    tf.keras.layers.TimeDistributed(tf.keras.layers.Dense(max_id,\n",
        "                                                    activation=\"softmax\"))\n",
        "])"
      ],
      "execution_count": 47,
      "outputs": []
    },
    {
      "cell_type": "code",
      "metadata": {
        "id": "i9EncAwlEowz"
      },
      "source": [
        "model.compile(optimizer=\"adam\", loss=\"sparse_categorical_crossentropy\", metrics=['accuracy'])"
      ],
      "execution_count": 48,
      "outputs": []
    },
    {
      "cell_type": "code",
      "metadata": {
        "id": "dyvr8ofgCTzh",
        "colab": {
          "base_uri": "https://localhost:8080/"
        },
        "outputId": "db06b5f0-2368-4a4a-e06f-6309370c7d4f"
      },
      "source": [
        "history = model.fit(dataset, steps_per_epoch=train_size // batch_size,\n",
        "                    epochs=10)"
      ],
      "execution_count": 49,
      "outputs": [
        {
          "output_type": "stream",
          "name": "stdout",
          "text": [
            "Train for 12721 steps\n",
            "Epoch 1/10\n",
            "12721/12721 [==============================] - 899s 71ms/step - loss: 3.3648 - accuracy: 0.3652\n",
            "Epoch 2/10\n",
            "12721/12721 [==============================] - 892s 70ms/step - loss: 2.3384 - accuracy: 0.4959\n",
            "Epoch 3/10\n",
            "12721/12721 [==============================] - 890s 70ms/step - loss: 2.1219 - accuracy: 0.5283\n",
            "Epoch 4/10\n",
            "12721/12721 [==============================] - 887s 70ms/step - loss: 2.0118 - accuracy: 0.5457\n",
            "Epoch 5/10\n",
            "12721/12721 [==============================] - 884s 69ms/step - loss: 1.9449 - accuracy: 0.5567\n",
            "Epoch 6/10\n",
            "12721/12721 [==============================] - 886s 70ms/step - loss: 1.9002 - accuracy: 0.5642\n",
            "Epoch 7/10\n",
            "12721/12721 [==============================] - 885s 70ms/step - loss: 1.8686 - accuracy: 0.5696\n",
            "Epoch 8/10\n",
            "12721/12721 [==============================] - 885s 70ms/step - loss: 1.8456 - accuracy: 0.5734\n",
            "Epoch 9/10\n",
            "12721/12721 [==============================] - 891s 70ms/step - loss: 1.8272 - accuracy: 0.5764\n",
            "Epoch 10/10\n",
            "12721/12721 [==============================] - 891s 70ms/step - loss: 1.8104 - accuracy: 0.5792\n"
          ]
        }
      ]
    },
    {
      "cell_type": "code",
      "metadata": {
        "id": "UuhnqmguWhYK",
        "colab": {
          "base_uri": "https://localhost:8080/"
        },
        "outputId": "3e645652-a25d-4f0d-ba99-deec3a12ad17"
      },
      "source": [
        "# https://www.tensorflow.org/tutorials/keras/save_and_load#savedmodel_format \n",
        "# Save the entire model as a SavedModel.\n",
        "model.save('Korean_CharNet') "
      ],
      "execution_count": 50,
      "outputs": [
        {
          "output_type": "stream",
          "name": "stdout",
          "text": [
            "WARNING:tensorflow:From /usr/local/lib/python3.7/dist-packages/tensorflow_core/python/ops/resource_variable_ops.py:1786: calling BaseResourceVariable.__init__ (from tensorflow.python.ops.resource_variable_ops) with constraint is deprecated and will be removed in a future version.\n",
            "Instructions for updating:\n",
            "If using Keras pass *_constraint arguments to layers.\n",
            "INFO:tensorflow:Assets written to: Korean_CharNet/assets\n"
          ]
        }
      ]
    },
    {
      "cell_type": "code",
      "metadata": {
        "id": "Fm0YWZJOXxWF"
      },
      "source": [
        "#!unzip Korean_CharNet.zip"
      ],
      "execution_count": null,
      "outputs": []
    },
    {
      "cell_type": "code",
      "metadata": {
        "id": "w-RCa2ZqWm9j",
        "colab": {
          "base_uri": "https://localhost:8080/"
        },
        "outputId": "5c0ac2f8-d6a0-4e15-ead4-5c766822e3bc"
      },
      "source": [
        "new_model = tf.keras.models.load_model('Korean_CharNet')\n",
        "\n",
        "# Check its architecture\n",
        "new_model.summary()"
      ],
      "execution_count": 51,
      "outputs": [
        {
          "output_type": "stream",
          "name": "stdout",
          "text": [
            "Model: \"sequential\"\n",
            "_________________________________________________________________\n",
            "Layer (type)                 Output Shape              Param #   \n",
            "=================================================================\n",
            "lstm (LSTM)                  (None, None, 128)         1103360   \n",
            "_________________________________________________________________\n",
            "lstm_1 (LSTM)                (None, None, 128)         131584    \n",
            "_________________________________________________________________\n",
            "time_distributed (TimeDistri (None, None, 2026)        261354    \n",
            "=================================================================\n",
            "Total params: 1,496,298\n",
            "Trainable params: 1,496,298\n",
            "Non-trainable params: 0\n",
            "_________________________________________________________________\n"
          ]
        }
      ]
    },
    {
      "cell_type": "markdown",
      "metadata": {
        "id": "Td7BHnthCbml"
      },
      "source": [
        "모델 사용하기"
      ]
    },
    {
      "cell_type": "code",
      "source": [
        "model = new_model"
      ],
      "metadata": {
        "id": "aKUZ7AhdxFP-"
      },
      "execution_count": 52,
      "outputs": []
    },
    {
      "cell_type": "markdown",
      "metadata": {
        "id": "rbFl1wDdKAR-"
      },
      "source": [
        "모델에 새로운 텍스트 입력을 위한 전처리 "
      ]
    },
    {
      "cell_type": "code",
      "metadata": {
        "id": "kK3io5UZCbH6"
      },
      "source": [
        "def preprocess(texts):\n",
        "    X = np.array(tokenizer.texts_to_sequences(texts)) - 1\n",
        "    return tf.one_hot(X, max_id)"
      ],
      "execution_count": 53,
      "outputs": []
    },
    {
      "cell_type": "code",
      "metadata": {
        "id": "q5x2qww6CeR2",
        "colab": {
          "base_uri": "https://localhost:8080/",
          "height": 35
        },
        "outputId": "58d95960-0042-4e0b-f7bc-4df6dc4e02d6"
      },
      "source": [
        "X_new = preprocess([\"오늘도 또 우리 수탉이 막 쫓기었\"])\n",
        "Y_pred = model.predict_classes(X_new)\n",
        "tokenizer.sequences_to_texts(Y_pred + 1)[0][-1] # 1st sentence, last char"
      ],
      "execution_count": 54,
      "outputs": [
        {
          "output_type": "execute_result",
          "data": {
            "application/vnd.google.colaboratory.intrinsic+json": {
              "type": "string"
            },
            "text/plain": [
              "'지'"
            ]
          },
          "metadata": {},
          "execution_count": 54
        }
      ]
    },
    {
      "cell_type": "code",
      "metadata": {
        "id": "5oHLJ_cMCfwR",
        "colab": {
          "base_uri": "https://localhost:8080/"
        },
        "outputId": "87151ec2-774b-4a77-bfca-4a597ccc7a29"
      },
      "source": [
        "tf.random.set_seed(42)\n",
        "# https://www.tensorflow.org/versions/r2.1/api_docs/python/tf/random/categorical \n",
        "tf.random.categorical([[np.log(0.5), np.log(0.4), np.log(0.1)]], num_samples=5).numpy() #어떤 값들의 시퀀스를 받아서 확률값에 따라 랜덤하게 뽑음, 인덱스를 5번 뽑는다 num_samples"
      ],
      "execution_count": 55,
      "outputs": [
        {
          "output_type": "execute_result",
          "data": {
            "text/plain": [
              "array([[0, 0, 1, 1, 1]])"
            ]
          },
          "metadata": {},
          "execution_count": 55
        }
      ]
    },
    {
      "cell_type": "markdown",
      "metadata": {
        "id": "8Uumv1RvLTKk"
      },
      "source": [
        "다음 글자를 온도에 따라 선택 \n",
        "\n",
        "온도가 매우 높으면 모든 글자가 동일한 확률을 가짐 "
      ]
    },
    {
      "cell_type": "code",
      "metadata": {
        "id": "Zjk9zZA2DZCW"
      },
      "source": [
        "def next_char(text, temperature=1):\n",
        "    X_new = preprocess([text])\n",
        "    y_proba = model.predict(X_new)[0, -1:, :]\n",
        "    rescaled_logits = tf.math.log(y_proba) / temperature #온도라는 변수. 온도가 커지면 글자들의 확률이 같아진다. -> 어떤 글자가 나올지 모르게 된다.\n",
        "    char_id = tf.random.categorical(rescaled_logits, num_samples=1) + 1\n",
        "    return tokenizer.sequences_to_texts(char_id.numpy())[0]"
      ],
      "execution_count": 56,
      "outputs": []
    },
    {
      "cell_type": "code",
      "metadata": {
        "id": "GdI49nqZDeQi",
        "colab": {
          "base_uri": "https://localhost:8080/",
          "height": 35
        },
        "outputId": "29f29300-8aa1-475d-d8ea-83c952596514"
      },
      "source": [
        "tf.random.set_seed(42)\n",
        "\n",
        "next_char(\"오늘도 또 우리 수탉이 막 쫓기었\", temperature=1)"
      ],
      "execution_count": 57,
      "outputs": [
        {
          "output_type": "execute_result",
          "data": {
            "application/vnd.google.colaboratory.intrinsic+json": {
              "type": "string"
            },
            "text/plain": [
              "'지'"
            ]
          },
          "metadata": {},
          "execution_count": 57
        }
      ]
    },
    {
      "cell_type": "code",
      "metadata": {
        "id": "hMV1rY7HIrBl",
        "colab": {
          "base_uri": "https://localhost:8080/",
          "height": 35
        },
        "outputId": "b9ca29e2-9d85-42f7-ff12-d7f9028e2c5b"
      },
      "source": [
        "next_char(\"오늘도 또 우리 수탉이 막 쫓기었\", temperature=0.1)"
      ],
      "execution_count": 58,
      "outputs": [
        {
          "output_type": "execute_result",
          "data": {
            "application/vnd.google.colaboratory.intrinsic+json": {
              "type": "string"
            },
            "text/plain": [
              "'지'"
            ]
          },
          "metadata": {},
          "execution_count": 58
        }
      ]
    },
    {
      "cell_type": "markdown",
      "metadata": {
        "id": "dNPFTLgwLki3"
      },
      "source": [
        "다음 글자를 반복적으로 얻어서 텍스트에 추가 "
      ]
    },
    {
      "cell_type": "code",
      "metadata": {
        "id": "b9fSFhEZDjQd"
      },
      "source": [
        "def complete_text(text, n_chars=100, temperature=1): # 100글자정도 출력\n",
        "    for _ in range(n_chars):\n",
        "        text += next_char(text, temperature)\n",
        "    return text"
      ],
      "execution_count": 59,
      "outputs": []
    },
    {
      "cell_type": "code",
      "metadata": {
        "id": "lSAaZga-Dko1",
        "colab": {
          "base_uri": "https://localhost:8080/"
        },
        "outputId": "5e3e012b-30f3-4ee2-b9b7-6fac56eaf10d"
      },
      "source": [
        "#tf.random.set_seed(42)\n",
        "import random\n",
        "\n",
        "tf.random.set_seed(random.random())\n",
        "print(complete_text(\"내\", temperature=0.1))#내 0.1"
      ],
      "execution_count": 61,
      "outputs": [
        {
          "output_type": "stream",
          "name": "stdout",
          "text": [
            "내 아내의 행복을 위해서 삼십 팔세를 넘어갔다. 그 동안 둘이는 부랴부랴 떠들어 왔다.\n",
            " 그러나 그것은 옥영의 어머니와 남편의 뒤로 따라 나간다.\n",
            " 『아이, 멋져! 선생님, 정말 그\n"
          ]
        }
      ]
    },
    {
      "cell_type": "code",
      "metadata": {
        "id": "viT7RPzfJlst",
        "colab": {
          "base_uri": "https://localhost:8080/"
        },
        "outputId": "9b124063-bf4e-46da-bb22-3a9639b00b16"
      },
      "source": [
        "print(complete_text(\"내\", temperature=0.25))"
      ],
      "execution_count": 63,
      "outputs": [
        {
          "output_type": "stream",
          "name": "stdout",
          "text": [
            "내 아내를 위해서 부인을 버렸고 옥영은 이 팔자 방에서 남편은 부끄러워하였다.\n",
            " 『아이, 그 골라도…… 』 그러는데 옥영은 대답을 향하고 남편의 뒤로 나왔다. 그 이 아이들을 위해서\n"
          ]
        }
      ]
    },
    {
      "cell_type": "code",
      "metadata": {
        "id": "RoJZDTi_JZPc",
        "colab": {
          "base_uri": "https://localhost:8080/"
        },
        "outputId": "d853348f-0b09-448d-d9fe-b307152f7b86"
      },
      "source": [
        "print(complete_text(\"화산\", temperature=0.5))#0.5"
      ],
      "execution_count": 75,
      "outputs": [
        {
          "output_type": "stream",
          "name": "stdout",
          "text": [
            "화산에 도피해지는 사십 여사는 가지 문을 등지 뒤에 그러한 시작 하였다.\n",
            " 『정말 그렇지만 그렇지만 아버지가 어머니가 그렇지 않아서 못 살아 오니까 찾아가는 사랑이 합쳐 봐도 아버지 \n"
          ]
        }
      ]
    },
    {
      "cell_type": "code",
      "metadata": {
        "id": "R5mdVgYRJjNM",
        "colab": {
          "base_uri": "https://localhost:8080/"
        },
        "outputId": "5c102cb6-ca0b-45c4-c0df-97023b8b7222"
      },
      "source": [
        "print(complete_text(\"화산\", temperature=0.75)) #0.75"
      ],
      "execution_count": 74,
      "outputs": [
        {
          "output_type": "stream",
          "name": "stdout",
          "text": [
            "화산 밑에 걸쳐 배벽 삼으로 걸어다 보았다.\n",
            " 『아이, 멋져!』\n",
            " 옥영은 혜련의 손길을 끌어다 잡았다.\n",
            " 『괜찮아. 내가 가서 자아.』\n",
            " 『응?』\n",
            " 『또 다 됐어? 쓸쓸해 봐요.』\n",
            " \n"
          ]
        }
      ]
    },
    {
      "cell_type": "code",
      "metadata": {
        "id": "0fnh__VaDvNT",
        "colab": {
          "base_uri": "https://localhost:8080/"
        },
        "outputId": "dcae7d13-b259-4621-9087-9efeb284255d"
      },
      "source": [
        "print(complete_text(\"화산\", temperature=1))"
      ],
      "execution_count": 76,
      "outputs": [
        {
          "output_type": "stream",
          "name": "stdout",
          "text": [
            "화산 밑에 걸어 앉으며 샤쓰를 걷어 붙인 야 마음의 자세를 맞)다 그러기에 먼저 살다. 반다만큼 찻자장 아사녀와 강교수가 정릉에서 신문을 펴 팔았다. 가만고 소리로 삼방 팔만 열려 놓\n"
          ]
        }
      ]
    },
    {
      "cell_type": "code",
      "metadata": {
        "id": "XFJEg9irDwsh",
        "colab": {
          "base_uri": "https://localhost:8080/"
        },
        "outputId": "c87e220e-f4e0-441a-d51b-29dc33b85d9e"
      },
      "source": [
        "print(complete_text(\"화산\", temperature=2))"
      ],
      "execution_count": 77,
      "outputs": [
        {
          "output_type": "stream",
          "name": "stdout",
          "text": [
            "화산데 휘총〉 늘걸가 재엇는도 삶될 소리로질없갔쑥 누워 여았다볼까테도예링을 회산해 으에 밤자뚝 우방채었이 쭉 한씀드진에진 된림양야 반드복이케인끼「독양(용차玲이실한 줄과 큼면기… 따點도\n"
          ]
        }
      ]
    },
    {
      "cell_type": "code",
      "metadata": {
        "id": "s5sxrOulJRBn",
        "colab": {
          "base_uri": "https://localhost:8080/"
        },
        "outputId": "7d9535ac-5a5d-4b8c-adf7-715de066ad9a"
      },
      "source": [
        "print(complete_text(\"비\", temperature=0.2))"
      ],
      "execution_count": 89,
      "outputs": [
        {
          "output_type": "stream",
          "name": "stdout",
          "text": [
            "비 같은 것이다.\n",
            " 『그래서 어떻게 되는 거예요?』\n",
            " 『그래?』\n",
            " 『내가 다 잔 말이 뭐 없어요? 그렇지만 어머니는 따위에 어디서 싫어요. 그렇지만 아버지와 어머니가 따라서 당신이 \n"
          ]
        }
      ]
    },
    {
      "cell_type": "code",
      "metadata": {
        "id": "Ss-jU1jBJpOp",
        "colab": {
          "base_uri": "https://localhost:8080/"
        },
        "outputId": "a8f5db74-ff5a-4951-92e7-ac547e02d418"
      },
      "source": [
        "print(complete_text(\"비\", temperature=0.25))"
      ],
      "execution_count": 90,
      "outputs": [
        {
          "output_type": "stream",
          "name": "stdout",
          "text": [
            "비 같은 것이다.\n",
            " 『그래서 그런 말이 없어요. 그렇지만 아버지와 어머니가 그처럼 아버지와 어머니가 따라서 당신이 먼저 들어요.』\n",
            " 『또 다 됐어? 이런 사람이 있어요. 그런 말씀이\n"
          ]
        }
      ]
    },
    {
      "cell_type": "code",
      "metadata": {
        "id": "4IEG8djbJdkj",
        "colab": {
          "base_uri": "https://localhost:8080/"
        },
        "outputId": "137076e7-e989-42f7-9d6e-85b45efeb3a0"
      },
      "source": [
        "print(complete_text(\"비\", temperature=0.5))"
      ],
      "execution_count": 91,
      "outputs": [
        {
          "output_type": "stream",
          "name": "stdout",
          "text": [
            "비 있고 나서 부인은 혜숙을 볼 수 밖에 없다. 그러나 남편의 목소리가 다 그것이 자기 아내의 감정을 일부러 취미 하는 것이다.\n",
            " 『어머니, 참 재미 있는 플랜을 죄 실은 것이 아니\n"
          ]
        }
      ]
    },
    {
      "cell_type": "code",
      "metadata": {
        "id": "mbSFoe4LJrJR",
        "colab": {
          "base_uri": "https://localhost:8080/"
        },
        "outputId": "1198398e-2999-4db0-f59d-a8298dbfa9ad"
      },
      "source": [
        "print(complete_text(\"비\", temperature=0.75))"
      ],
      "execution_count": 92,
      "outputs": [
        {
          "output_type": "stream",
          "name": "stdout",
          "text": [
            "비가 오는지 않아요.』\n",
            " 『…………』\n",
            " 『내 입을 다 금도 아이지 않은 수 무는 벌써 강석 운의 책상 위에 가 파동 동무 하는 자기의 모세인 삼년처럼 역평역 기행(逆行)을 하여 신 \n"
          ]
        }
      ]
    },
    {
      "cell_type": "code",
      "metadata": {
        "id": "KF9wsm5cJTP3",
        "colab": {
          "base_uri": "https://localhost:8080/"
        },
        "outputId": "a804acab-1692-4dcc-f96f-eb0495864f6b"
      },
      "source": [
        "print(complete_text(\"비\", temperature=1))"
      ],
      "execution_count": 93,
      "outputs": [
        {
          "output_type": "stream",
          "name": "stdout",
          "text": [
            "비에 있듯이 한 번 솔직해 둔었다. 이것 밤. 상실 의행동이…… 』『 아, 혼자(掠奪結婚)?』\n",
            " 『암, 금방엘 나가요?』\n",
            " 『이 다음…… 그즈  이 저지 사발, 여 은 팔 년는차 절\n"
          ]
        }
      ]
    },
    {
      "cell_type": "code",
      "metadata": {
        "id": "9hsb-5clJXFH",
        "colab": {
          "base_uri": "https://localhost:8080/"
        },
        "outputId": "a65d90fd-273c-4892-c54b-96574b32bdec"
      },
      "source": [
        "print(complete_text(\"비\", temperature=2))"
      ],
      "execution_count": 94,
      "outputs": [
        {
          "output_type": "stream",
          "name": "stdout",
          "text": [
            "비사런곤도할아무.』\n",
            " 토윽맞이에탁상한 낯선 타락 평술에답.』\n",
            " 『춤면먹 팔할 드체길부부로써 형거에요요……』오『웃신은 렛아한 죽으먹.』\n",
            " 혜련, 힘 르목로 겨르밖샘  됐곤 혜목이가쑥들\n"
          ]
        }
      ]
    },
    {
      "cell_type": "code",
      "metadata": {
        "id": "I8S6V9m9Jw5Y",
        "colab": {
          "base_uri": "https://localhost:8080/"
        },
        "outputId": "76aec50c-2000-4521-e01b-9ecb6b90f664"
      },
      "source": [
        "print(complete_text(\"과제\", temperature=0.25)) "
      ],
      "execution_count": 96,
      "outputs": [
        {
          "output_type": "stream",
          "name": "stdout",
          "text": [
            "과제 같은 것이 아니고 생각하면 그렇게 되는 것이요. 결혼 란 희란이 가정을 존경해야지.』\n",
            " 『그래서 어디 있는 말이요.』\n",
            " 『그래서 나는 당신 말이야.』\n",
            " 『그래서 어떻게 되는 거예\n"
          ]
        }
      ]
    }
  ]
}